{
 "cells": [
  {
   "cell_type": "code",
   "execution_count": 1,
   "metadata": {},
   "outputs": [
    {
     "data": {
      "text/html": [
       "<div>\n",
       "<style scoped>\n",
       "    .dataframe tbody tr th:only-of-type {\n",
       "        vertical-align: middle;\n",
       "    }\n",
       "\n",
       "    .dataframe tbody tr th {\n",
       "        vertical-align: top;\n",
       "    }\n",
       "\n",
       "    .dataframe thead th {\n",
       "        text-align: right;\n",
       "    }\n",
       "</style>\n",
       "<table border=\"1\" class=\"dataframe\">\n",
       "  <thead>\n",
       "    <tr style=\"text-align: right;\">\n",
       "      <th></th>\n",
       "      <th>userid</th>\n",
       "      <th>age</th>\n",
       "      <th>dob_day</th>\n",
       "      <th>dob_year</th>\n",
       "      <th>dob_month</th>\n",
       "      <th>gender</th>\n",
       "      <th>tenure</th>\n",
       "      <th>friend_count</th>\n",
       "      <th>friendships_initiated</th>\n",
       "      <th>likes</th>\n",
       "      <th>likes_received</th>\n",
       "      <th>mobile_likes</th>\n",
       "      <th>mobile_likes_received</th>\n",
       "      <th>www_likes</th>\n",
       "      <th>www_likes_received</th>\n",
       "    </tr>\n",
       "  </thead>\n",
       "  <tbody>\n",
       "    <tr>\n",
       "      <th>0</th>\n",
       "      <td>2094382</td>\n",
       "      <td>14</td>\n",
       "      <td>19</td>\n",
       "      <td>1999</td>\n",
       "      <td>11</td>\n",
       "      <td>male</td>\n",
       "      <td>266.0</td>\n",
       "      <td>0</td>\n",
       "      <td>0</td>\n",
       "      <td>0</td>\n",
       "      <td>0</td>\n",
       "      <td>0</td>\n",
       "      <td>0</td>\n",
       "      <td>0</td>\n",
       "      <td>0</td>\n",
       "    </tr>\n",
       "    <tr>\n",
       "      <th>1</th>\n",
       "      <td>1192601</td>\n",
       "      <td>14</td>\n",
       "      <td>2</td>\n",
       "      <td>1999</td>\n",
       "      <td>11</td>\n",
       "      <td>female</td>\n",
       "      <td>6.0</td>\n",
       "      <td>0</td>\n",
       "      <td>0</td>\n",
       "      <td>0</td>\n",
       "      <td>0</td>\n",
       "      <td>0</td>\n",
       "      <td>0</td>\n",
       "      <td>0</td>\n",
       "      <td>0</td>\n",
       "    </tr>\n",
       "    <tr>\n",
       "      <th>2</th>\n",
       "      <td>2083884</td>\n",
       "      <td>14</td>\n",
       "      <td>16</td>\n",
       "      <td>1999</td>\n",
       "      <td>11</td>\n",
       "      <td>male</td>\n",
       "      <td>13.0</td>\n",
       "      <td>0</td>\n",
       "      <td>0</td>\n",
       "      <td>0</td>\n",
       "      <td>0</td>\n",
       "      <td>0</td>\n",
       "      <td>0</td>\n",
       "      <td>0</td>\n",
       "      <td>0</td>\n",
       "    </tr>\n",
       "    <tr>\n",
       "      <th>3</th>\n",
       "      <td>1203168</td>\n",
       "      <td>14</td>\n",
       "      <td>25</td>\n",
       "      <td>1999</td>\n",
       "      <td>12</td>\n",
       "      <td>female</td>\n",
       "      <td>93.0</td>\n",
       "      <td>0</td>\n",
       "      <td>0</td>\n",
       "      <td>0</td>\n",
       "      <td>0</td>\n",
       "      <td>0</td>\n",
       "      <td>0</td>\n",
       "      <td>0</td>\n",
       "      <td>0</td>\n",
       "    </tr>\n",
       "    <tr>\n",
       "      <th>4</th>\n",
       "      <td>1733186</td>\n",
       "      <td>14</td>\n",
       "      <td>4</td>\n",
       "      <td>1999</td>\n",
       "      <td>12</td>\n",
       "      <td>male</td>\n",
       "      <td>82.0</td>\n",
       "      <td>0</td>\n",
       "      <td>0</td>\n",
       "      <td>0</td>\n",
       "      <td>0</td>\n",
       "      <td>0</td>\n",
       "      <td>0</td>\n",
       "      <td>0</td>\n",
       "      <td>0</td>\n",
       "    </tr>\n",
       "    <tr>\n",
       "      <th>...</th>\n",
       "      <td>...</td>\n",
       "      <td>...</td>\n",
       "      <td>...</td>\n",
       "      <td>...</td>\n",
       "      <td>...</td>\n",
       "      <td>...</td>\n",
       "      <td>...</td>\n",
       "      <td>...</td>\n",
       "      <td>...</td>\n",
       "      <td>...</td>\n",
       "      <td>...</td>\n",
       "      <td>...</td>\n",
       "      <td>...</td>\n",
       "      <td>...</td>\n",
       "      <td>...</td>\n",
       "    </tr>\n",
       "    <tr>\n",
       "      <th>98998</th>\n",
       "      <td>1268299</td>\n",
       "      <td>68</td>\n",
       "      <td>4</td>\n",
       "      <td>1945</td>\n",
       "      <td>4</td>\n",
       "      <td>female</td>\n",
       "      <td>541.0</td>\n",
       "      <td>2118</td>\n",
       "      <td>341</td>\n",
       "      <td>3996</td>\n",
       "      <td>18089</td>\n",
       "      <td>3505</td>\n",
       "      <td>11887</td>\n",
       "      <td>491</td>\n",
       "      <td>6202</td>\n",
       "    </tr>\n",
       "    <tr>\n",
       "      <th>98999</th>\n",
       "      <td>1256153</td>\n",
       "      <td>18</td>\n",
       "      <td>12</td>\n",
       "      <td>1995</td>\n",
       "      <td>3</td>\n",
       "      <td>female</td>\n",
       "      <td>21.0</td>\n",
       "      <td>1968</td>\n",
       "      <td>1720</td>\n",
       "      <td>4401</td>\n",
       "      <td>13412</td>\n",
       "      <td>4399</td>\n",
       "      <td>10592</td>\n",
       "      <td>2</td>\n",
       "      <td>2820</td>\n",
       "    </tr>\n",
       "    <tr>\n",
       "      <th>99000</th>\n",
       "      <td>1195943</td>\n",
       "      <td>15</td>\n",
       "      <td>10</td>\n",
       "      <td>1998</td>\n",
       "      <td>5</td>\n",
       "      <td>female</td>\n",
       "      <td>111.0</td>\n",
       "      <td>2002</td>\n",
       "      <td>1524</td>\n",
       "      <td>11959</td>\n",
       "      <td>12554</td>\n",
       "      <td>11959</td>\n",
       "      <td>11462</td>\n",
       "      <td>0</td>\n",
       "      <td>1092</td>\n",
       "    </tr>\n",
       "    <tr>\n",
       "      <th>99001</th>\n",
       "      <td>1468023</td>\n",
       "      <td>23</td>\n",
       "      <td>11</td>\n",
       "      <td>1990</td>\n",
       "      <td>4</td>\n",
       "      <td>female</td>\n",
       "      <td>416.0</td>\n",
       "      <td>2560</td>\n",
       "      <td>185</td>\n",
       "      <td>4506</td>\n",
       "      <td>6516</td>\n",
       "      <td>4506</td>\n",
       "      <td>5760</td>\n",
       "      <td>0</td>\n",
       "      <td>756</td>\n",
       "    </tr>\n",
       "    <tr>\n",
       "      <th>99002</th>\n",
       "      <td>1397896</td>\n",
       "      <td>39</td>\n",
       "      <td>15</td>\n",
       "      <td>1974</td>\n",
       "      <td>5</td>\n",
       "      <td>female</td>\n",
       "      <td>397.0</td>\n",
       "      <td>2049</td>\n",
       "      <td>768</td>\n",
       "      <td>9410</td>\n",
       "      <td>12443</td>\n",
       "      <td>9410</td>\n",
       "      <td>9530</td>\n",
       "      <td>0</td>\n",
       "      <td>2913</td>\n",
       "    </tr>\n",
       "  </tbody>\n",
       "</table>\n",
       "<p>99003 rows × 15 columns</p>\n",
       "</div>"
      ],
      "text/plain": [
       "        userid  age  dob_day  dob_year  dob_month  gender  tenure  \\\n",
       "0      2094382   14       19      1999         11    male   266.0   \n",
       "1      1192601   14        2      1999         11  female     6.0   \n",
       "2      2083884   14       16      1999         11    male    13.0   \n",
       "3      1203168   14       25      1999         12  female    93.0   \n",
       "4      1733186   14        4      1999         12    male    82.0   \n",
       "...        ...  ...      ...       ...        ...     ...     ...   \n",
       "98998  1268299   68        4      1945          4  female   541.0   \n",
       "98999  1256153   18       12      1995          3  female    21.0   \n",
       "99000  1195943   15       10      1998          5  female   111.0   \n",
       "99001  1468023   23       11      1990          4  female   416.0   \n",
       "99002  1397896   39       15      1974          5  female   397.0   \n",
       "\n",
       "       friend_count  friendships_initiated  likes  likes_received  \\\n",
       "0                 0                      0      0               0   \n",
       "1                 0                      0      0               0   \n",
       "2                 0                      0      0               0   \n",
       "3                 0                      0      0               0   \n",
       "4                 0                      0      0               0   \n",
       "...             ...                    ...    ...             ...   \n",
       "98998          2118                    341   3996           18089   \n",
       "98999          1968                   1720   4401           13412   \n",
       "99000          2002                   1524  11959           12554   \n",
       "99001          2560                    185   4506            6516   \n",
       "99002          2049                    768   9410           12443   \n",
       "\n",
       "       mobile_likes  mobile_likes_received  www_likes  www_likes_received  \n",
       "0                 0                      0          0                   0  \n",
       "1                 0                      0          0                   0  \n",
       "2                 0                      0          0                   0  \n",
       "3                 0                      0          0                   0  \n",
       "4                 0                      0          0                   0  \n",
       "...             ...                    ...        ...                 ...  \n",
       "98998          3505                  11887        491                6202  \n",
       "98999          4399                  10592          2                2820  \n",
       "99000         11959                  11462          0                1092  \n",
       "99001          4506                   5760          0                 756  \n",
       "99002          9410                   9530          0                2913  \n",
       "\n",
       "[99003 rows x 15 columns]"
      ]
     },
     "execution_count": 1,
     "metadata": {},
     "output_type": "execute_result"
    }
   ],
   "source": [
    "import pandas as pd\n",
    "import numpy as np\n",
    "import matplotlib.pyplot as plt\n",
    "import seaborn as sns\n",
    "%matplotlib inline\n",
    "df = pd.read_csv(\"facebook user data - facebook user data.csv\")\n",
    "df"
   ]
  },
  {
   "cell_type": "code",
   "execution_count": 2,
   "metadata": {},
   "outputs": [
    {
     "name": "stdout",
     "output_type": "stream",
     "text": [
      "<class 'pandas.core.frame.DataFrame'>\n",
      "RangeIndex: 99003 entries, 0 to 99002\n",
      "Data columns (total 15 columns):\n",
      " #   Column                 Non-Null Count  Dtype  \n",
      "---  ------                 --------------  -----  \n",
      " 0   userid                 99003 non-null  int64  \n",
      " 1   age                    99003 non-null  int64  \n",
      " 2   dob_day                99003 non-null  int64  \n",
      " 3   dob_year               99003 non-null  int64  \n",
      " 4   dob_month              99003 non-null  int64  \n",
      " 5   gender                 98828 non-null  object \n",
      " 6   tenure                 99001 non-null  float64\n",
      " 7   friend_count           99003 non-null  int64  \n",
      " 8   friendships_initiated  99003 non-null  int64  \n",
      " 9   likes                  99003 non-null  int64  \n",
      " 10  likes_received         99003 non-null  int64  \n",
      " 11  mobile_likes           99003 non-null  int64  \n",
      " 12  mobile_likes_received  99003 non-null  int64  \n",
      " 13  www_likes              99003 non-null  int64  \n",
      " 14  www_likes_received     99003 non-null  int64  \n",
      "dtypes: float64(1), int64(13), object(1)\n",
      "memory usage: 11.3+ MB\n"
     ]
    }
   ],
   "source": [
    "df.info()"
   ]
  },
  {
   "cell_type": "code",
   "execution_count": 3,
   "metadata": {},
   "outputs": [
    {
     "data": {
      "text/html": [
       "<div>\n",
       "<style scoped>\n",
       "    .dataframe tbody tr th:only-of-type {\n",
       "        vertical-align: middle;\n",
       "    }\n",
       "\n",
       "    .dataframe tbody tr th {\n",
       "        vertical-align: top;\n",
       "    }\n",
       "\n",
       "    .dataframe thead th {\n",
       "        text-align: right;\n",
       "    }\n",
       "</style>\n",
       "<table border=\"1\" class=\"dataframe\">\n",
       "  <thead>\n",
       "    <tr style=\"text-align: right;\">\n",
       "      <th></th>\n",
       "      <th>userid</th>\n",
       "      <th>age</th>\n",
       "      <th>dob_day</th>\n",
       "      <th>dob_year</th>\n",
       "      <th>dob_month</th>\n",
       "      <th>tenure</th>\n",
       "      <th>friend_count</th>\n",
       "      <th>friendships_initiated</th>\n",
       "      <th>likes</th>\n",
       "      <th>likes_received</th>\n",
       "      <th>mobile_likes</th>\n",
       "      <th>mobile_likes_received</th>\n",
       "      <th>www_likes</th>\n",
       "      <th>www_likes_received</th>\n",
       "    </tr>\n",
       "  </thead>\n",
       "  <tbody>\n",
       "    <tr>\n",
       "      <th>count</th>\n",
       "      <td>9.900300e+04</td>\n",
       "      <td>99003.000000</td>\n",
       "      <td>99003.000000</td>\n",
       "      <td>99003.000000</td>\n",
       "      <td>99003.000000</td>\n",
       "      <td>99001.000000</td>\n",
       "      <td>99003.000000</td>\n",
       "      <td>99003.000000</td>\n",
       "      <td>99003.000000</td>\n",
       "      <td>99003.000000</td>\n",
       "      <td>99003.000000</td>\n",
       "      <td>99003.000000</td>\n",
       "      <td>99003.000000</td>\n",
       "      <td>99003.000000</td>\n",
       "    </tr>\n",
       "    <tr>\n",
       "      <th>mean</th>\n",
       "      <td>1.597045e+06</td>\n",
       "      <td>37.280224</td>\n",
       "      <td>14.530408</td>\n",
       "      <td>1975.719776</td>\n",
       "      <td>6.283365</td>\n",
       "      <td>537.887375</td>\n",
       "      <td>196.350787</td>\n",
       "      <td>107.452471</td>\n",
       "      <td>156.078785</td>\n",
       "      <td>142.689363</td>\n",
       "      <td>106.116300</td>\n",
       "      <td>84.120491</td>\n",
       "      <td>49.962425</td>\n",
       "      <td>58.568831</td>\n",
       "    </tr>\n",
       "    <tr>\n",
       "      <th>std</th>\n",
       "      <td>3.440592e+05</td>\n",
       "      <td>22.589748</td>\n",
       "      <td>9.015606</td>\n",
       "      <td>22.589748</td>\n",
       "      <td>3.529672</td>\n",
       "      <td>457.649874</td>\n",
       "      <td>387.304229</td>\n",
       "      <td>188.786951</td>\n",
       "      <td>572.280681</td>\n",
       "      <td>1387.919613</td>\n",
       "      <td>445.252985</td>\n",
       "      <td>839.889444</td>\n",
       "      <td>285.560152</td>\n",
       "      <td>601.416348</td>\n",
       "    </tr>\n",
       "    <tr>\n",
       "      <th>min</th>\n",
       "      <td>1.000008e+06</td>\n",
       "      <td>13.000000</td>\n",
       "      <td>1.000000</td>\n",
       "      <td>1900.000000</td>\n",
       "      <td>1.000000</td>\n",
       "      <td>0.000000</td>\n",
       "      <td>0.000000</td>\n",
       "      <td>0.000000</td>\n",
       "      <td>0.000000</td>\n",
       "      <td>0.000000</td>\n",
       "      <td>0.000000</td>\n",
       "      <td>0.000000</td>\n",
       "      <td>0.000000</td>\n",
       "      <td>0.000000</td>\n",
       "    </tr>\n",
       "    <tr>\n",
       "      <th>25%</th>\n",
       "      <td>1.298806e+06</td>\n",
       "      <td>20.000000</td>\n",
       "      <td>7.000000</td>\n",
       "      <td>1963.000000</td>\n",
       "      <td>3.000000</td>\n",
       "      <td>226.000000</td>\n",
       "      <td>31.000000</td>\n",
       "      <td>17.000000</td>\n",
       "      <td>1.000000</td>\n",
       "      <td>1.000000</td>\n",
       "      <td>0.000000</td>\n",
       "      <td>0.000000</td>\n",
       "      <td>0.000000</td>\n",
       "      <td>0.000000</td>\n",
       "    </tr>\n",
       "    <tr>\n",
       "      <th>50%</th>\n",
       "      <td>1.596148e+06</td>\n",
       "      <td>28.000000</td>\n",
       "      <td>14.000000</td>\n",
       "      <td>1985.000000</td>\n",
       "      <td>6.000000</td>\n",
       "      <td>412.000000</td>\n",
       "      <td>82.000000</td>\n",
       "      <td>46.000000</td>\n",
       "      <td>11.000000</td>\n",
       "      <td>8.000000</td>\n",
       "      <td>4.000000</td>\n",
       "      <td>4.000000</td>\n",
       "      <td>0.000000</td>\n",
       "      <td>2.000000</td>\n",
       "    </tr>\n",
       "    <tr>\n",
       "      <th>75%</th>\n",
       "      <td>1.895744e+06</td>\n",
       "      <td>50.000000</td>\n",
       "      <td>22.000000</td>\n",
       "      <td>1993.000000</td>\n",
       "      <td>9.000000</td>\n",
       "      <td>675.000000</td>\n",
       "      <td>206.000000</td>\n",
       "      <td>117.000000</td>\n",
       "      <td>81.000000</td>\n",
       "      <td>59.000000</td>\n",
       "      <td>46.000000</td>\n",
       "      <td>33.000000</td>\n",
       "      <td>7.000000</td>\n",
       "      <td>20.000000</td>\n",
       "    </tr>\n",
       "    <tr>\n",
       "      <th>max</th>\n",
       "      <td>2.193542e+06</td>\n",
       "      <td>113.000000</td>\n",
       "      <td>31.000000</td>\n",
       "      <td>2000.000000</td>\n",
       "      <td>12.000000</td>\n",
       "      <td>3139.000000</td>\n",
       "      <td>4923.000000</td>\n",
       "      <td>4144.000000</td>\n",
       "      <td>25111.000000</td>\n",
       "      <td>261197.000000</td>\n",
       "      <td>25111.000000</td>\n",
       "      <td>138561.000000</td>\n",
       "      <td>14865.000000</td>\n",
       "      <td>129953.000000</td>\n",
       "    </tr>\n",
       "  </tbody>\n",
       "</table>\n",
       "</div>"
      ],
      "text/plain": [
       "             userid           age       dob_day      dob_year     dob_month  \\\n",
       "count  9.900300e+04  99003.000000  99003.000000  99003.000000  99003.000000   \n",
       "mean   1.597045e+06     37.280224     14.530408   1975.719776      6.283365   \n",
       "std    3.440592e+05     22.589748      9.015606     22.589748      3.529672   \n",
       "min    1.000008e+06     13.000000      1.000000   1900.000000      1.000000   \n",
       "25%    1.298806e+06     20.000000      7.000000   1963.000000      3.000000   \n",
       "50%    1.596148e+06     28.000000     14.000000   1985.000000      6.000000   \n",
       "75%    1.895744e+06     50.000000     22.000000   1993.000000      9.000000   \n",
       "max    2.193542e+06    113.000000     31.000000   2000.000000     12.000000   \n",
       "\n",
       "             tenure  friend_count  friendships_initiated         likes  \\\n",
       "count  99001.000000  99003.000000           99003.000000  99003.000000   \n",
       "mean     537.887375    196.350787             107.452471    156.078785   \n",
       "std      457.649874    387.304229             188.786951    572.280681   \n",
       "min        0.000000      0.000000               0.000000      0.000000   \n",
       "25%      226.000000     31.000000              17.000000      1.000000   \n",
       "50%      412.000000     82.000000              46.000000     11.000000   \n",
       "75%      675.000000    206.000000             117.000000     81.000000   \n",
       "max     3139.000000   4923.000000            4144.000000  25111.000000   \n",
       "\n",
       "       likes_received  mobile_likes  mobile_likes_received     www_likes  \\\n",
       "count    99003.000000  99003.000000           99003.000000  99003.000000   \n",
       "mean       142.689363    106.116300              84.120491     49.962425   \n",
       "std       1387.919613    445.252985             839.889444    285.560152   \n",
       "min          0.000000      0.000000               0.000000      0.000000   \n",
       "25%          1.000000      0.000000               0.000000      0.000000   \n",
       "50%          8.000000      4.000000               4.000000      0.000000   \n",
       "75%         59.000000     46.000000              33.000000      7.000000   \n",
       "max     261197.000000  25111.000000          138561.000000  14865.000000   \n",
       "\n",
       "       www_likes_received  \n",
       "count        99003.000000  \n",
       "mean            58.568831  \n",
       "std            601.416348  \n",
       "min              0.000000  \n",
       "25%              0.000000  \n",
       "50%              2.000000  \n",
       "75%             20.000000  \n",
       "max         129953.000000  "
      ]
     },
     "execution_count": 3,
     "metadata": {},
     "output_type": "execute_result"
    }
   ],
   "source": [
    "df.describe()"
   ]
  },
  {
   "cell_type": "code",
   "execution_count": 4,
   "metadata": {},
   "outputs": [
    {
     "data": {
      "text/plain": [
       "(99003, 15)"
      ]
     },
     "execution_count": 4,
     "metadata": {},
     "output_type": "execute_result"
    }
   ],
   "source": [
    "df.shape #How Many rows and column in the data"
   ]
  },
  {
   "cell_type": "markdown",
   "metadata": {},
   "source": [
    "# Question 1\n",
    "# Load the data and impute missing values\n",
    "# Imputation of missing values:\n",
    "\n"
   ]
  },
  {
   "cell_type": "code",
   "execution_count": 5,
   "metadata": {},
   "outputs": [
    {
     "data": {
      "text/html": [
       "<div>\n",
       "<style scoped>\n",
       "    .dataframe tbody tr th:only-of-type {\n",
       "        vertical-align: middle;\n",
       "    }\n",
       "\n",
       "    .dataframe tbody tr th {\n",
       "        vertical-align: top;\n",
       "    }\n",
       "\n",
       "    .dataframe thead th {\n",
       "        text-align: right;\n",
       "    }\n",
       "</style>\n",
       "<table border=\"1\" class=\"dataframe\">\n",
       "  <thead>\n",
       "    <tr style=\"text-align: right;\">\n",
       "      <th></th>\n",
       "      <th>userid</th>\n",
       "      <th>age</th>\n",
       "      <th>dob_day</th>\n",
       "      <th>dob_year</th>\n",
       "      <th>dob_month</th>\n",
       "      <th>gender</th>\n",
       "      <th>tenure</th>\n",
       "      <th>friend_count</th>\n",
       "      <th>friendships_initiated</th>\n",
       "      <th>likes</th>\n",
       "      <th>likes_received</th>\n",
       "      <th>mobile_likes</th>\n",
       "      <th>mobile_likes_received</th>\n",
       "      <th>www_likes</th>\n",
       "      <th>www_likes_received</th>\n",
       "    </tr>\n",
       "  </thead>\n",
       "  <tbody>\n",
       "    <tr>\n",
       "      <th>0</th>\n",
       "      <td>2094382</td>\n",
       "      <td>14</td>\n",
       "      <td>19</td>\n",
       "      <td>1999</td>\n",
       "      <td>11</td>\n",
       "      <td>male</td>\n",
       "      <td>266.0</td>\n",
       "      <td>0</td>\n",
       "      <td>0</td>\n",
       "      <td>0</td>\n",
       "      <td>0</td>\n",
       "      <td>0</td>\n",
       "      <td>0</td>\n",
       "      <td>0</td>\n",
       "      <td>0</td>\n",
       "    </tr>\n",
       "    <tr>\n",
       "      <th>1</th>\n",
       "      <td>1192601</td>\n",
       "      <td>14</td>\n",
       "      <td>2</td>\n",
       "      <td>1999</td>\n",
       "      <td>11</td>\n",
       "      <td>female</td>\n",
       "      <td>6.0</td>\n",
       "      <td>0</td>\n",
       "      <td>0</td>\n",
       "      <td>0</td>\n",
       "      <td>0</td>\n",
       "      <td>0</td>\n",
       "      <td>0</td>\n",
       "      <td>0</td>\n",
       "      <td>0</td>\n",
       "    </tr>\n",
       "    <tr>\n",
       "      <th>2</th>\n",
       "      <td>2083884</td>\n",
       "      <td>14</td>\n",
       "      <td>16</td>\n",
       "      <td>1999</td>\n",
       "      <td>11</td>\n",
       "      <td>male</td>\n",
       "      <td>13.0</td>\n",
       "      <td>0</td>\n",
       "      <td>0</td>\n",
       "      <td>0</td>\n",
       "      <td>0</td>\n",
       "      <td>0</td>\n",
       "      <td>0</td>\n",
       "      <td>0</td>\n",
       "      <td>0</td>\n",
       "    </tr>\n",
       "    <tr>\n",
       "      <th>3</th>\n",
       "      <td>1203168</td>\n",
       "      <td>14</td>\n",
       "      <td>25</td>\n",
       "      <td>1999</td>\n",
       "      <td>12</td>\n",
       "      <td>female</td>\n",
       "      <td>93.0</td>\n",
       "      <td>0</td>\n",
       "      <td>0</td>\n",
       "      <td>0</td>\n",
       "      <td>0</td>\n",
       "      <td>0</td>\n",
       "      <td>0</td>\n",
       "      <td>0</td>\n",
       "      <td>0</td>\n",
       "    </tr>\n",
       "    <tr>\n",
       "      <th>4</th>\n",
       "      <td>1733186</td>\n",
       "      <td>14</td>\n",
       "      <td>4</td>\n",
       "      <td>1999</td>\n",
       "      <td>12</td>\n",
       "      <td>male</td>\n",
       "      <td>82.0</td>\n",
       "      <td>0</td>\n",
       "      <td>0</td>\n",
       "      <td>0</td>\n",
       "      <td>0</td>\n",
       "      <td>0</td>\n",
       "      <td>0</td>\n",
       "      <td>0</td>\n",
       "      <td>0</td>\n",
       "    </tr>\n",
       "    <tr>\n",
       "      <th>...</th>\n",
       "      <td>...</td>\n",
       "      <td>...</td>\n",
       "      <td>...</td>\n",
       "      <td>...</td>\n",
       "      <td>...</td>\n",
       "      <td>...</td>\n",
       "      <td>...</td>\n",
       "      <td>...</td>\n",
       "      <td>...</td>\n",
       "      <td>...</td>\n",
       "      <td>...</td>\n",
       "      <td>...</td>\n",
       "      <td>...</td>\n",
       "      <td>...</td>\n",
       "      <td>...</td>\n",
       "    </tr>\n",
       "    <tr>\n",
       "      <th>98998</th>\n",
       "      <td>1268299</td>\n",
       "      <td>68</td>\n",
       "      <td>4</td>\n",
       "      <td>1945</td>\n",
       "      <td>4</td>\n",
       "      <td>female</td>\n",
       "      <td>541.0</td>\n",
       "      <td>2118</td>\n",
       "      <td>341</td>\n",
       "      <td>3996</td>\n",
       "      <td>18089</td>\n",
       "      <td>3505</td>\n",
       "      <td>11887</td>\n",
       "      <td>491</td>\n",
       "      <td>6202</td>\n",
       "    </tr>\n",
       "    <tr>\n",
       "      <th>98999</th>\n",
       "      <td>1256153</td>\n",
       "      <td>18</td>\n",
       "      <td>12</td>\n",
       "      <td>1995</td>\n",
       "      <td>3</td>\n",
       "      <td>female</td>\n",
       "      <td>21.0</td>\n",
       "      <td>1968</td>\n",
       "      <td>1720</td>\n",
       "      <td>4401</td>\n",
       "      <td>13412</td>\n",
       "      <td>4399</td>\n",
       "      <td>10592</td>\n",
       "      <td>2</td>\n",
       "      <td>2820</td>\n",
       "    </tr>\n",
       "    <tr>\n",
       "      <th>99000</th>\n",
       "      <td>1195943</td>\n",
       "      <td>15</td>\n",
       "      <td>10</td>\n",
       "      <td>1998</td>\n",
       "      <td>5</td>\n",
       "      <td>female</td>\n",
       "      <td>111.0</td>\n",
       "      <td>2002</td>\n",
       "      <td>1524</td>\n",
       "      <td>11959</td>\n",
       "      <td>12554</td>\n",
       "      <td>11959</td>\n",
       "      <td>11462</td>\n",
       "      <td>0</td>\n",
       "      <td>1092</td>\n",
       "    </tr>\n",
       "    <tr>\n",
       "      <th>99001</th>\n",
       "      <td>1468023</td>\n",
       "      <td>23</td>\n",
       "      <td>11</td>\n",
       "      <td>1990</td>\n",
       "      <td>4</td>\n",
       "      <td>female</td>\n",
       "      <td>416.0</td>\n",
       "      <td>2560</td>\n",
       "      <td>185</td>\n",
       "      <td>4506</td>\n",
       "      <td>6516</td>\n",
       "      <td>4506</td>\n",
       "      <td>5760</td>\n",
       "      <td>0</td>\n",
       "      <td>756</td>\n",
       "    </tr>\n",
       "    <tr>\n",
       "      <th>99002</th>\n",
       "      <td>1397896</td>\n",
       "      <td>39</td>\n",
       "      <td>15</td>\n",
       "      <td>1974</td>\n",
       "      <td>5</td>\n",
       "      <td>female</td>\n",
       "      <td>397.0</td>\n",
       "      <td>2049</td>\n",
       "      <td>768</td>\n",
       "      <td>9410</td>\n",
       "      <td>12443</td>\n",
       "      <td>9410</td>\n",
       "      <td>9530</td>\n",
       "      <td>0</td>\n",
       "      <td>2913</td>\n",
       "    </tr>\n",
       "  </tbody>\n",
       "</table>\n",
       "<p>99003 rows × 15 columns</p>\n",
       "</div>"
      ],
      "text/plain": [
       "        userid  age  dob_day  dob_year  dob_month  gender  tenure  \\\n",
       "0      2094382   14       19      1999         11    male   266.0   \n",
       "1      1192601   14        2      1999         11  female     6.0   \n",
       "2      2083884   14       16      1999         11    male    13.0   \n",
       "3      1203168   14       25      1999         12  female    93.0   \n",
       "4      1733186   14        4      1999         12    male    82.0   \n",
       "...        ...  ...      ...       ...        ...     ...     ...   \n",
       "98998  1268299   68        4      1945          4  female   541.0   \n",
       "98999  1256153   18       12      1995          3  female    21.0   \n",
       "99000  1195943   15       10      1998          5  female   111.0   \n",
       "99001  1468023   23       11      1990          4  female   416.0   \n",
       "99002  1397896   39       15      1974          5  female   397.0   \n",
       "\n",
       "       friend_count  friendships_initiated  likes  likes_received  \\\n",
       "0                 0                      0      0               0   \n",
       "1                 0                      0      0               0   \n",
       "2                 0                      0      0               0   \n",
       "3                 0                      0      0               0   \n",
       "4                 0                      0      0               0   \n",
       "...             ...                    ...    ...             ...   \n",
       "98998          2118                    341   3996           18089   \n",
       "98999          1968                   1720   4401           13412   \n",
       "99000          2002                   1524  11959           12554   \n",
       "99001          2560                    185   4506            6516   \n",
       "99002          2049                    768   9410           12443   \n",
       "\n",
       "       mobile_likes  mobile_likes_received  www_likes  www_likes_received  \n",
       "0                 0                      0          0                   0  \n",
       "1                 0                      0          0                   0  \n",
       "2                 0                      0          0                   0  \n",
       "3                 0                      0          0                   0  \n",
       "4                 0                      0          0                   0  \n",
       "...             ...                    ...        ...                 ...  \n",
       "98998          3505                  11887        491                6202  \n",
       "98999          4399                  10592          2                2820  \n",
       "99000         11959                  11462          0                1092  \n",
       "99001          4506                   5760          0                 756  \n",
       "99002          9410                   9530          0                2913  \n",
       "\n",
       "[99003 rows x 15 columns]"
      ]
     },
     "execution_count": 5,
     "metadata": {},
     "output_type": "execute_result"
    }
   ],
   "source": [
    "df2 = df.copy() #Make a duplicate data so that our original data remain uneffected\n",
    "df2"
   ]
  },
  {
   "cell_type": "code",
   "execution_count": 6,
   "metadata": {},
   "outputs": [
    {
     "data": {
      "text/plain": [
       "userid                     0\n",
       "age                        0\n",
       "dob_day                    0\n",
       "dob_year                   0\n",
       "dob_month                  0\n",
       "gender                   175\n",
       "tenure                     2\n",
       "friend_count               0\n",
       "friendships_initiated      0\n",
       "likes                      0\n",
       "likes_received             0\n",
       "mobile_likes               0\n",
       "mobile_likes_received      0\n",
       "www_likes                  0\n",
       "www_likes_received         0\n",
       "dtype: int64"
      ]
     },
     "execution_count": 6,
     "metadata": {},
     "output_type": "execute_result"
    }
   ],
   "source": [
    "df2.isnull().sum()"
   ]
  },
  {
   "cell_type": "markdown",
   "metadata": {},
   "source": [
    " Clearly from above result there is only two columns 'gender' and 'tenure' which have 175 and 2 null values respectively"
   ]
  },
  {
   "cell_type": "code",
   "execution_count": 7,
   "metadata": {},
   "outputs": [
    {
     "data": {
      "text/html": [
       "<div>\n",
       "<style scoped>\n",
       "    .dataframe tbody tr th:only-of-type {\n",
       "        vertical-align: middle;\n",
       "    }\n",
       "\n",
       "    .dataframe tbody tr th {\n",
       "        vertical-align: top;\n",
       "    }\n",
       "\n",
       "    .dataframe thead th {\n",
       "        text-align: right;\n",
       "    }\n",
       "</style>\n",
       "<table border=\"1\" class=\"dataframe\">\n",
       "  <thead>\n",
       "    <tr style=\"text-align: right;\">\n",
       "      <th></th>\n",
       "      <th>userid</th>\n",
       "      <th>age</th>\n",
       "      <th>dob_day</th>\n",
       "      <th>dob_year</th>\n",
       "      <th>dob_month</th>\n",
       "      <th>gender</th>\n",
       "      <th>tenure</th>\n",
       "      <th>friend_count</th>\n",
       "      <th>friendships_initiated</th>\n",
       "      <th>likes</th>\n",
       "      <th>likes_received</th>\n",
       "      <th>mobile_likes</th>\n",
       "      <th>mobile_likes_received</th>\n",
       "      <th>www_likes</th>\n",
       "      <th>www_likes_received</th>\n",
       "    </tr>\n",
       "  </thead>\n",
       "  <tbody>\n",
       "    <tr>\n",
       "      <th>3224</th>\n",
       "      <td>1781137</td>\n",
       "      <td>25</td>\n",
       "      <td>3</td>\n",
       "      <td>1988</td>\n",
       "      <td>1</td>\n",
       "      <td>NaN</td>\n",
       "      <td>203.0</td>\n",
       "      <td>1</td>\n",
       "      <td>1</td>\n",
       "      <td>1</td>\n",
       "      <td>0</td>\n",
       "      <td>1</td>\n",
       "      <td>0</td>\n",
       "      <td>0</td>\n",
       "      <td>0</td>\n",
       "    </tr>\n",
       "    <tr>\n",
       "      <th>4123</th>\n",
       "      <td>1110111</td>\n",
       "      <td>31</td>\n",
       "      <td>12</td>\n",
       "      <td>1982</td>\n",
       "      <td>1</td>\n",
       "      <td>NaN</td>\n",
       "      <td>227.0</td>\n",
       "      <td>2</td>\n",
       "      <td>2</td>\n",
       "      <td>0</td>\n",
       "      <td>0</td>\n",
       "      <td>0</td>\n",
       "      <td>0</td>\n",
       "      <td>0</td>\n",
       "      <td>0</td>\n",
       "    </tr>\n",
       "    <tr>\n",
       "      <th>5920</th>\n",
       "      <td>2000185</td>\n",
       "      <td>25</td>\n",
       "      <td>15</td>\n",
       "      <td>1988</td>\n",
       "      <td>2</td>\n",
       "      <td>NaN</td>\n",
       "      <td>239.0</td>\n",
       "      <td>4</td>\n",
       "      <td>4</td>\n",
       "      <td>0</td>\n",
       "      <td>0</td>\n",
       "      <td>0</td>\n",
       "      <td>0</td>\n",
       "      <td>0</td>\n",
       "      <td>0</td>\n",
       "    </tr>\n",
       "    <tr>\n",
       "      <th>6432</th>\n",
       "      <td>1137054</td>\n",
       "      <td>59</td>\n",
       "      <td>18</td>\n",
       "      <td>1954</td>\n",
       "      <td>2</td>\n",
       "      <td>NaN</td>\n",
       "      <td>2076.0</td>\n",
       "      <td>4</td>\n",
       "      <td>0</td>\n",
       "      <td>23</td>\n",
       "      <td>5</td>\n",
       "      <td>23</td>\n",
       "      <td>4</td>\n",
       "      <td>0</td>\n",
       "      <td>1</td>\n",
       "    </tr>\n",
       "    <tr>\n",
       "      <th>6870</th>\n",
       "      <td>1783336</td>\n",
       "      <td>62</td>\n",
       "      <td>5</td>\n",
       "      <td>1951</td>\n",
       "      <td>9</td>\n",
       "      <td>NaN</td>\n",
       "      <td>2047.0</td>\n",
       "      <td>5</td>\n",
       "      <td>0</td>\n",
       "      <td>0</td>\n",
       "      <td>1</td>\n",
       "      <td>0</td>\n",
       "      <td>1</td>\n",
       "      <td>0</td>\n",
       "      <td>0</td>\n",
       "    </tr>\n",
       "    <tr>\n",
       "      <th>...</th>\n",
       "      <td>...</td>\n",
       "      <td>...</td>\n",
       "      <td>...</td>\n",
       "      <td>...</td>\n",
       "      <td>...</td>\n",
       "      <td>...</td>\n",
       "      <td>...</td>\n",
       "      <td>...</td>\n",
       "      <td>...</td>\n",
       "      <td>...</td>\n",
       "      <td>...</td>\n",
       "      <td>...</td>\n",
       "      <td>...</td>\n",
       "      <td>...</td>\n",
       "      <td>...</td>\n",
       "    </tr>\n",
       "    <tr>\n",
       "      <th>94778</th>\n",
       "      <td>1748557</td>\n",
       "      <td>68</td>\n",
       "      <td>27</td>\n",
       "      <td>1945</td>\n",
       "      <td>4</td>\n",
       "      <td>NaN</td>\n",
       "      <td>1862.0</td>\n",
       "      <td>790</td>\n",
       "      <td>435</td>\n",
       "      <td>422</td>\n",
       "      <td>425</td>\n",
       "      <td>410</td>\n",
       "      <td>318</td>\n",
       "      <td>12</td>\n",
       "      <td>107</td>\n",
       "    </tr>\n",
       "    <tr>\n",
       "      <th>95317</th>\n",
       "      <td>2173780</td>\n",
       "      <td>50</td>\n",
       "      <td>11</td>\n",
       "      <td>1963</td>\n",
       "      <td>9</td>\n",
       "      <td>NaN</td>\n",
       "      <td>2129.0</td>\n",
       "      <td>863</td>\n",
       "      <td>389</td>\n",
       "      <td>49</td>\n",
       "      <td>781</td>\n",
       "      <td>24</td>\n",
       "      <td>327</td>\n",
       "      <td>25</td>\n",
       "      <td>454</td>\n",
       "    </tr>\n",
       "    <tr>\n",
       "      <th>95479</th>\n",
       "      <td>1442490</td>\n",
       "      <td>108</td>\n",
       "      <td>1</td>\n",
       "      <td>1905</td>\n",
       "      <td>7</td>\n",
       "      <td>NaN</td>\n",
       "      <td>1332.0</td>\n",
       "      <td>967</td>\n",
       "      <td>537</td>\n",
       "      <td>150</td>\n",
       "      <td>1311</td>\n",
       "      <td>76</td>\n",
       "      <td>671</td>\n",
       "      <td>74</td>\n",
       "      <td>640</td>\n",
       "    </tr>\n",
       "    <tr>\n",
       "      <th>97530</th>\n",
       "      <td>2119521</td>\n",
       "      <td>74</td>\n",
       "      <td>26</td>\n",
       "      <td>1939</td>\n",
       "      <td>9</td>\n",
       "      <td>NaN</td>\n",
       "      <td>1998.0</td>\n",
       "      <td>1609</td>\n",
       "      <td>348</td>\n",
       "      <td>313</td>\n",
       "      <td>834</td>\n",
       "      <td>179</td>\n",
       "      <td>696</td>\n",
       "      <td>134</td>\n",
       "      <td>138</td>\n",
       "    </tr>\n",
       "    <tr>\n",
       "      <th>98216</th>\n",
       "      <td>1966857</td>\n",
       "      <td>102</td>\n",
       "      <td>6</td>\n",
       "      <td>1911</td>\n",
       "      <td>12</td>\n",
       "      <td>NaN</td>\n",
       "      <td>2389.0</td>\n",
       "      <td>2548</td>\n",
       "      <td>1130</td>\n",
       "      <td>50</td>\n",
       "      <td>29</td>\n",
       "      <td>50</td>\n",
       "      <td>22</td>\n",
       "      <td>0</td>\n",
       "      <td>7</td>\n",
       "    </tr>\n",
       "  </tbody>\n",
       "</table>\n",
       "<p>175 rows × 15 columns</p>\n",
       "</div>"
      ],
      "text/plain": [
       "        userid  age  dob_day  dob_year  dob_month gender  tenure  \\\n",
       "3224   1781137   25        3      1988          1    NaN   203.0   \n",
       "4123   1110111   31       12      1982          1    NaN   227.0   \n",
       "5920   2000185   25       15      1988          2    NaN   239.0   \n",
       "6432   1137054   59       18      1954          2    NaN  2076.0   \n",
       "6870   1783336   62        5      1951          9    NaN  2047.0   \n",
       "...        ...  ...      ...       ...        ...    ...     ...   \n",
       "94778  1748557   68       27      1945          4    NaN  1862.0   \n",
       "95317  2173780   50       11      1963          9    NaN  2129.0   \n",
       "95479  1442490  108        1      1905          7    NaN  1332.0   \n",
       "97530  2119521   74       26      1939          9    NaN  1998.0   \n",
       "98216  1966857  102        6      1911         12    NaN  2389.0   \n",
       "\n",
       "       friend_count  friendships_initiated  likes  likes_received  \\\n",
       "3224              1                      1      1               0   \n",
       "4123              2                      2      0               0   \n",
       "5920              4                      4      0               0   \n",
       "6432              4                      0     23               5   \n",
       "6870              5                      0      0               1   \n",
       "...             ...                    ...    ...             ...   \n",
       "94778           790                    435    422             425   \n",
       "95317           863                    389     49             781   \n",
       "95479           967                    537    150            1311   \n",
       "97530          1609                    348    313             834   \n",
       "98216          2548                   1130     50              29   \n",
       "\n",
       "       mobile_likes  mobile_likes_received  www_likes  www_likes_received  \n",
       "3224              1                      0          0                   0  \n",
       "4123              0                      0          0                   0  \n",
       "5920              0                      0          0                   0  \n",
       "6432             23                      4          0                   1  \n",
       "6870              0                      1          0                   0  \n",
       "...             ...                    ...        ...                 ...  \n",
       "94778           410                    318         12                 107  \n",
       "95317            24                    327         25                 454  \n",
       "95479            76                    671         74                 640  \n",
       "97530           179                    696        134                 138  \n",
       "98216            50                     22          0                   7  \n",
       "\n",
       "[175 rows x 15 columns]"
      ]
     },
     "execution_count": 7,
     "metadata": {},
     "output_type": "execute_result"
    }
   ],
   "source": [
    "null_gender = pd.isnull(df2[\"gender\"]) # Check that which rows containing null values in gender column\n",
    "df2[null_gender]"
   ]
  },
  {
   "cell_type": "markdown",
   "metadata": {},
   "source": [
    "The above result shows the only rows which have null values in 'gender' column"
   ]
  },
  {
   "cell_type": "code",
   "execution_count": 8,
   "metadata": {},
   "outputs": [
    {
     "data": {
      "text/html": [
       "<div>\n",
       "<style scoped>\n",
       "    .dataframe tbody tr th:only-of-type {\n",
       "        vertical-align: middle;\n",
       "    }\n",
       "\n",
       "    .dataframe tbody tr th {\n",
       "        vertical-align: top;\n",
       "    }\n",
       "\n",
       "    .dataframe thead th {\n",
       "        text-align: right;\n",
       "    }\n",
       "</style>\n",
       "<table border=\"1\" class=\"dataframe\">\n",
       "  <thead>\n",
       "    <tr style=\"text-align: right;\">\n",
       "      <th></th>\n",
       "      <th>userid</th>\n",
       "      <th>age</th>\n",
       "      <th>dob_day</th>\n",
       "      <th>dob_year</th>\n",
       "      <th>dob_month</th>\n",
       "      <th>gender</th>\n",
       "      <th>tenure</th>\n",
       "      <th>friend_count</th>\n",
       "      <th>friendships_initiated</th>\n",
       "      <th>likes</th>\n",
       "      <th>likes_received</th>\n",
       "      <th>mobile_likes</th>\n",
       "      <th>mobile_likes_received</th>\n",
       "      <th>www_likes</th>\n",
       "      <th>www_likes_received</th>\n",
       "    </tr>\n",
       "  </thead>\n",
       "  <tbody>\n",
       "    <tr>\n",
       "      <th>35057</th>\n",
       "      <td>1414063</td>\n",
       "      <td>88</td>\n",
       "      <td>14</td>\n",
       "      <td>1925</td>\n",
       "      <td>12</td>\n",
       "      <td>female</td>\n",
       "      <td>NaN</td>\n",
       "      <td>48</td>\n",
       "      <td>41</td>\n",
       "      <td>18</td>\n",
       "      <td>5</td>\n",
       "      <td>17</td>\n",
       "      <td>3</td>\n",
       "      <td>1</td>\n",
       "      <td>2</td>\n",
       "    </tr>\n",
       "    <tr>\n",
       "      <th>63979</th>\n",
       "      <td>2095829</td>\n",
       "      <td>103</td>\n",
       "      <td>1</td>\n",
       "      <td>1910</td>\n",
       "      <td>1</td>\n",
       "      <td>female</td>\n",
       "      <td>NaN</td>\n",
       "      <td>137</td>\n",
       "      <td>52</td>\n",
       "      <td>110</td>\n",
       "      <td>74</td>\n",
       "      <td>0</td>\n",
       "      <td>21</td>\n",
       "      <td>110</td>\n",
       "      <td>53</td>\n",
       "    </tr>\n",
       "  </tbody>\n",
       "</table>\n",
       "</div>"
      ],
      "text/plain": [
       "        userid  age  dob_day  dob_year  dob_month  gender  tenure  \\\n",
       "35057  1414063   88       14      1925         12  female     NaN   \n",
       "63979  2095829  103        1      1910          1  female     NaN   \n",
       "\n",
       "       friend_count  friendships_initiated  likes  likes_received  \\\n",
       "35057            48                     41     18               5   \n",
       "63979           137                     52    110              74   \n",
       "\n",
       "       mobile_likes  mobile_likes_received  www_likes  www_likes_received  \n",
       "35057            17                      3          1                   2  \n",
       "63979             0                     21        110                  53  "
      ]
     },
     "execution_count": 8,
     "metadata": {},
     "output_type": "execute_result"
    }
   ],
   "source": [
    "null_tenure = pd.isnull(df2['tenure']) #check that which rows are conaining null values in tenure column\n",
    "df2[null_tenure]"
   ]
  },
  {
   "cell_type": "markdown",
   "metadata": {},
   "source": [
    "The above result shows the only rows which have null values in 'tenure' column"
   ]
  },
  {
   "cell_type": "markdown",
   "metadata": {},
   "source": [
    "# Question 1(a)\n",
    "# Replace the null values (NA) of gender column with its mode or median and explain\n",
    "# why mode/median used to replace NA values"
   ]
  },
  {
   "cell_type": "code",
   "execution_count": 9,
   "metadata": {},
   "outputs": [
    {
     "data": {
      "text/plain": [
       "userid                   0\n",
       "age                      0\n",
       "dob_day                  0\n",
       "dob_year                 0\n",
       "dob_month                0\n",
       "gender                   0\n",
       "tenure                   2\n",
       "friend_count             0\n",
       "friendships_initiated    0\n",
       "likes                    0\n",
       "likes_received           0\n",
       "mobile_likes             0\n",
       "mobile_likes_received    0\n",
       "www_likes                0\n",
       "www_likes_received       0\n",
       "dtype: int64"
      ]
     },
     "execution_count": 9,
     "metadata": {},
     "output_type": "execute_result"
    }
   ],
   "source": [
    "df2['gender'] = df2['gender'].fillna(df2['gender'].mode()[0]) #Filling null values in the gender column by the mode value of column\n",
    "\n",
    "df2.isnull().sum() #check that null values in gender column has been removed or not"
   ]
  },
  {
   "cell_type": "markdown",
   "metadata": {},
   "source": [
    "Clearly we can see from above result that there is no null value in the gender column now "
   ]
  },
  {
   "cell_type": "markdown",
   "metadata": {},
   "source": [
    "We use mean, median, mode values for filing in place of null values because:-\n",
    "• When we train our model then it shows error on null values\n",
    "• model acccuracy does not affected\n",
    "• if we drop the rows containing null values then we can loose a useful information during training of our model"
   ]
  },
  {
   "cell_type": "markdown",
   "metadata": {},
   "source": [
    "# Question 1(b)\n",
    "# Replace the null values (NA) of tenure column (numerical variable) with its median,\n",
    "# and explain why mode/median used to replace NA values"
   ]
  },
  {
   "cell_type": "code",
   "execution_count": 10,
   "metadata": {},
   "outputs": [
    {
     "data": {
      "text/plain": [
       "userid                   0\n",
       "age                      0\n",
       "dob_day                  0\n",
       "dob_year                 0\n",
       "dob_month                0\n",
       "gender                   0\n",
       "tenure                   0\n",
       "friend_count             0\n",
       "friendships_initiated    0\n",
       "likes                    0\n",
       "likes_received           0\n",
       "mobile_likes             0\n",
       "mobile_likes_received    0\n",
       "www_likes                0\n",
       "www_likes_received       0\n",
       "dtype: int64"
      ]
     },
     "execution_count": 10,
     "metadata": {},
     "output_type": "execute_result"
    }
   ],
   "source": [
    "df2['tenure'] = df2['tenure'].fillna(df2['tenure'].median()) #Filling null values in 'tenure column'with the median value of the column\n",
    "df2.isnull().sum() #Checking if null values in tenure column has been removed or not\n"
   ]
  },
  {
   "cell_type": "markdown",
   "metadata": {},
   "source": [
    "we can clearly see from above result that no null value is present in any column now"
   ]
  },
  {
   "cell_type": "markdown",
   "metadata": {},
   "source": [
    "We use mean, median, mode values for filing in place of null values because:-\n",
    "• When we train our model then it shows error on null values\n",
    "• model acccuracy does not affected\n",
    "• if we drop the rows containing null values then we can loose a useful information during training of our model"
   ]
  },
  {
   "cell_type": "markdown",
   "metadata": {},
   "source": [
    "# Question 2\n",
    "# Plot heatmap / correlation matrix on all the columns."
   ]
  },
  {
   "cell_type": "code",
   "execution_count": 11,
   "metadata": {},
   "outputs": [
    {
     "data": {
      "text/plain": [
       "<AxesSubplot:>"
      ]
     },
     "execution_count": 11,
     "metadata": {},
     "output_type": "execute_result"
    },
    {
     "data": {
      "image/png": "[encoded data removed]",
      "text/plain": [
       "<Figure size 432x288 with 2 Axes>"
      ]
     },
     "metadata": {
      "needs_background": "light"
     },
     "output_type": "display_data"
    }
   ],
   "source": [
    "sns.heatmap(df2.corr(), annot=True)"
   ]
  },
  {
   "cell_type": "markdown",
   "metadata": {},
   "source": [
    "# Question 3\n",
    "# Analysis based on gender of the users\n"
   ]
  },
  {
   "cell_type": "markdown",
   "metadata": {},
   "source": [
    "# Question 3(a)\n",
    "# What is composition of male and female users?"
   ]
  },
  {
   "cell_type": "code",
   "execution_count": 12,
   "metadata": {},
   "outputs": [
    {
     "data": {
      "text/plain": [
       "male      58749\n",
       "female    40254\n",
       "Name: gender, dtype: int64"
      ]
     },
     "execution_count": 12,
     "metadata": {},
     "output_type": "execute_result"
    }
   ],
   "source": [
    "df2['gender'].value_counts()"
   ]
  },
  {
   "cell_type": "markdown",
   "metadata": {},
   "source": [
    "Clearly there are 56749 male and 40254 female in the gender column"
   ]
  },
  {
   "cell_type": "markdown",
   "metadata": {},
   "source": [
    "# Question 3(b)\n",
    "# Which category of gender has more friends?"
   ]
  },
  {
   "cell_type": "code",
   "execution_count": 13,
   "metadata": {},
   "outputs": [
    {
     "data": {
      "image/png": "[encoded data removed]",
      "text/plain": [
       "<Figure size 432x288 with 1 Axes>"
      ]
     },
     "metadata": {
      "needs_background": "light"
     },
     "output_type": "display_data"
    }
   ],
   "source": [
    "\n",
    "sns.barplot(data = df2,x = 'gender',y = 'friend_count')\n",
    "plt.show()"
   ]
  },
  {
   "cell_type": "markdown",
   "metadata": {},
   "source": [
    "Clearly from the above graph Female have more friends than Male"
   ]
  },
  {
   "cell_type": "markdown",
   "metadata": {},
   "source": [
    "# Question 3(c)\n",
    "#  Which category of gender initiated more friendships?"
   ]
  },
  {
   "cell_type": "code",
   "execution_count": 14,
   "metadata": {},
   "outputs": [
    {
     "data": {
      "image/png": "[encoded data removed]",
      "text/plain": [
       "<Figure size 432x288 with 1 Axes>"
      ]
     },
     "metadata": {
      "needs_background": "light"
     },
     "output_type": "display_data"
    }
   ],
   "source": [
    "sns.barplot(data = df2,x = 'gender',y = 'friendships_initiated')\n",
    "plt.show()"
   ]
  },
  {
   "cell_type": "markdown",
   "metadata": {},
   "source": [
    "Clearly from the above graph female initiated more friends than Male"
   ]
  },
  {
   "cell_type": "markdown",
   "metadata": {},
   "source": [
    "# Question 3(d)\n",
    "# What is the distribution of tenure across different categories of gender?"
   ]
  },
  {
   "cell_type": "code",
   "execution_count": 15,
   "metadata": {},
   "outputs": [
    {
     "name": "stderr",
     "output_type": "stream",
     "text": [
      "C:\\Users\\roxma\\anaconda3\\lib\\site-packages\\seaborn\\_decorators.py:36: FutureWarning: Pass the following variables as keyword args: x, y. From version 0.12, the only valid positional argument will be `data`, and passing other arguments without an explicit keyword will result in an error or misinterpretation.\n",
      "  warnings.warn(\n"
     ]
    },
    {
     "data": {
      "text/plain": [
       "<AxesSubplot:xlabel='gender', ylabel='tenure'>"
      ]
     },
     "execution_count": 15,
     "metadata": {},
     "output_type": "execute_result"
    },
    {
     "data": {
      "image/png": "[encoded data removed]",
      "text/plain": [
       "<Figure size 432x288 with 1 Axes>"
      ]
     },
     "metadata": {
      "needs_background": "light"
     },
     "output_type": "display_data"
    }
   ],
   "source": [
    "sns.boxplot(df2.gender,df2.tenure)"
   ]
  },
  {
   "cell_type": "markdown",
   "metadata": {},
   "source": [
    "The above graph shows the distribution of tenure over categories of gender"
   ]
  },
  {
   "cell_type": "markdown",
   "metadata": {},
   "source": [
    "# Question 4\n",
    "#  Analysis based on the least active users on Facebook"
   ]
  },
  {
   "cell_type": "markdown",
   "metadata": {},
   "source": [
    "# Question 4(a)\n",
    "# How many users have no friends?"
   ]
  },
  {
   "cell_type": "code",
   "execution_count": 16,
   "metadata": {},
   "outputs": [
    {
     "data": {
      "text/plain": [
       "1962"
      ]
     },
     "execution_count": 16,
     "metadata": {},
     "output_type": "execute_result"
    }
   ],
   "source": [
    "df2.friend_count.isin([0]).sum()"
   ]
  },
  {
   "cell_type": "markdown",
   "metadata": {},
   "source": [
    "Clearly from above result there are 1962 user who have no friends"
   ]
  },
  {
   "cell_type": "markdown",
   "metadata": {},
   "source": [
    "# Question 4(b)\n",
    "# How many users did not like any posts?"
   ]
  },
  {
   "cell_type": "code",
   "execution_count": 17,
   "metadata": {},
   "outputs": [
    {
     "data": {
      "text/plain": [
       "22308"
      ]
     },
     "execution_count": 17,
     "metadata": {},
     "output_type": "execute_result"
    }
   ],
   "source": [
    "df2.likes.isin([0]).sum()"
   ]
  },
  {
   "cell_type": "markdown",
   "metadata": {},
   "source": [
    "Clearly from the above result there are 22308 user who did not like any post"
   ]
  },
  {
   "cell_type": "markdown",
   "metadata": {},
   "source": [
    "# Question 4(c)\n",
    "# How many users did not receive any likes?"
   ]
  },
  {
   "cell_type": "code",
   "execution_count": 18,
   "metadata": {},
   "outputs": [
    {
     "data": {
      "text/plain": [
       "24428"
      ]
     },
     "execution_count": 18,
     "metadata": {},
     "output_type": "execute_result"
    }
   ],
   "source": [
    "df2.likes_received.isin([0]).sum()"
   ]
  },
  {
   "cell_type": "markdown",
   "metadata": {},
   "source": [
    "Clearly from above result there are 24428 user who did not received any like"
   ]
  },
  {
   "cell_type": "markdown",
   "metadata": {},
   "source": [
    "# Question 5\n",
    "#  Analysis based on the user accessibility (Mobile Devices vs. Web Devices)\n"
   ]
  },
  {
   "cell_type": "markdown",
   "metadata": {},
   "source": [
    "# Question 5(a)\n",
    "# What is the average number of posts liked by users (based on gender) through web vs.\n",
    "# mobile devices?\n"
   ]
  },
  {
   "cell_type": "code",
   "execution_count": 19,
   "metadata": {},
   "outputs": [
    {
     "data": {
      "image/png": "[encoded data removed]",
      "text/plain": [
       "<Figure size 864x432 with 2 Axes>"
      ]
     },
     "metadata": {
      "needs_background": "light"
     },
     "output_type": "display_data"
    }
   ],
   "source": [
    "plt.figure(figsize=(12,6))\n",
    "plt.subplot(1,2,1)\n",
    "sns.barplot(x='gender',y='mobile_likes',data=df2, palette='Set1')\n",
    "plt.subplot(1,2,2)\n",
    "sns.barplot(x='gender',y='www_likes',data=df2, palette='Set2')\n",
    "plt.tight_layout()"
   ]
  },
  {
   "cell_type": "markdown",
   "metadata": {},
   "source": [
    "From the above graph it is clear that average no of posts liked by male and female is 60, 170 repectively from mobile\n",
    "and from web is 25, 90 repectively."
   ]
  },
  {
   "cell_type": "markdown",
   "metadata": {},
   "source": [
    "# Question 5(b)\n",
    "# What is the average number of likes received by users (based on gender) through web\n",
    "# vs. mobile devices?"
   ]
  },
  {
   "cell_type": "code",
   "execution_count": 20,
   "metadata": {},
   "outputs": [
    {
     "data": {
      "image/png": "[encoded data removed]",
      "text/plain": [
       "<Figure size 864x432 with 2 Axes>"
      ]
     },
     "metadata": {
      "needs_background": "light"
     },
     "output_type": "display_data"
    }
   ],
   "source": [
    "plt.figure(figsize=(12,6))\n",
    "plt.subplot(1,2,1)\n",
    "sns.barplot(x='gender',y='mobile_likes_received',data=df2,palette='Set1')\n",
    "plt.subplot(1,2,2)\n",
    "sns.barplot(x='gender',y='www_likes_received',data=df2,palette='Set2')\n",
    "plt.tight_layout()"
   ]
  },
  {
   "cell_type": "markdown",
   "metadata": {},
   "source": [
    "from tha above graph we can say that average number of likes received by male and female is 40, 140 respectively from the mobile and from the web is 25, 105 repectively"
   ]
  },
  {
   "cell_type": "markdown",
   "metadata": {},
   "source": [
    "# Thank You"
   ]
  }
 ],
 "metadata": {
  "kernelspec": {
   "display_name": "Python 3",
   "language": "python",
   "name": "python3"
  },
  "language_info": {
   "codemirror_mode": {
    "name": "ipython",
    "version": 3
   },
   "file_extension": ".py",
   "mimetype": "text/x-python",
   "name": "python",
   "nbconvert_exporter": "python",
   "pygments_lexer": "ipython3",
   "version": "3.8.5"
  }
 },
 "nbformat": 4,
 "nbformat_minor": 4
}
